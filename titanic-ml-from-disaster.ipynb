{
 "cells": [
  {
   "cell_type": "code",
   "execution_count": 1,
   "id": "d8e667d6",
   "metadata": {
    "_cell_guid": "b1076dfc-b9ad-4769-8c92-a6c4dae69d19",
    "_uuid": "8f2839f25d086af736a60e9eeb907d3b93b6e0e5",
    "execution": {
     "iopub.execute_input": "2023-12-12T04:32:17.462189Z",
     "iopub.status.busy": "2023-12-12T04:32:17.461409Z",
     "iopub.status.idle": "2023-12-12T04:32:19.822393Z",
     "shell.execute_reply": "2023-12-12T04:32:19.821252Z"
    },
    "papermill": {
     "duration": 2.367657,
     "end_time": "2023-12-12T04:32:19.825129",
     "exception": false,
     "start_time": "2023-12-12T04:32:17.457472",
     "status": "completed"
    },
    "tags": []
   },
   "outputs": [
    {
     "name": "stdout",
     "output_type": "stream",
     "text": [
      "/kaggle/input/d/toshall/titanic/train.csv\n",
      "/kaggle/input/d/toshall/titanic/test.csv\n",
      "/kaggle/input/titanic/train.csv\n",
      "/kaggle/input/titanic/test.csv\n",
      "/kaggle/input/titanic/gender_submission.csv\n"
     ]
    }
   ],
   "source": [
    "# This Python 3 environment comes with many helpful analytics libraries installed\n",
    "# It is defined by the kaggle/python Docker image: https://github.com/kaggle/docker-python\n",
    "# For example, here's several helpful packages to load\n",
    "\n",
    "import numpy as np\n",
    "import pandas as pd\n",
    "from sklearn.ensemble import RandomForestClassifier\n",
    "from sklearn.model_selection import train_test_split\n",
    "\n",
    "# Load data\n",
    "df = pd.read_csv(\"/kaggle/input/d/toshall/titanic/train.csv\")\n",
    "df_test = pd.read_csv(\"/kaggle/input/d/toshall/titanic/test.csv\")\n",
    "\n",
    "# Selecting only numerical features\n",
    "X_train = df.select_dtypes(include=[np.number])\n",
    "X_test = df_test.select_dtypes(include=[np.number])\n",
    "\n",
    "# Drop non-feature columns and target variable from training data\n",
    "X_train = X_train.drop(['Survived', 'PassengerId'], axis=1)\n",
    "X_test = X_test.drop('PassengerId', axis=1)\n",
    "\n",
    "# Fill missing values with median\n",
    "X_train = X_train.fillna(X_train.median())\n",
    "X_test = X_test.fillna(X_test.median())\n",
    "\n",
    "# Target\n",
    "y_train = df['Survived']\n",
    "\n",
    "# Model\n",
    "clf = RandomForestClassifier(max_depth=5, random_state=10)\n",
    "\n",
    "# Fit the model\n",
    "clf.fit(X_train, y_train)\n",
    "\n",
    "# Predict on test data\n",
    "y_pred = clf.predict(X_test)\n",
    "\n",
    "# Output predictions\n",
    "output = pd.DataFrame({'PassengerId': df_test.PassengerId, 'Survived': y_pred})\n",
    "output.to_csv('submission.csv', index=False)\n",
    "\n",
    "\n",
    "\n",
    "\n",
    "\n",
    "\n",
    "\n",
    "\n",
    "import os\n",
    "for dirname, _, filenames in os.walk('/kaggle/input'):\n",
    "    for filename in filenames:\n",
    "        print(os.path.join(dirname, filename))\n",
    "\n",
    "# You can write up to 20GB to the current directory (/kaggle/working/) that gets preserved as output when you create a version using \"Save & Run All\" \n",
    "# You can also write temporary files to /kaggle/temp/, but they won't be saved outside of the current session"
   ]
  }
 ],
 "metadata": {
  "kaggle": {
   "accelerator": "none",
   "dataSources": [
    {
     "databundleVersionId": 26502,
     "sourceId": 3136,
     "sourceType": "competition"
    },
    {
     "datasetId": 4149479,
     "sourceId": 7179531,
     "sourceType": "datasetVersion"
    }
   ],
   "dockerImageVersionId": 30615,
   "isGpuEnabled": false,
   "isInternetEnabled": false,
   "language": "python",
   "sourceType": "notebook"
  },
  "kernelspec": {
   "display_name": "Python 3",
   "language": "python",
   "name": "python3"
  },
  "language_info": {
   "codemirror_mode": {
    "name": "ipython",
    "version": 3
   },
   "file_extension": ".py",
   "mimetype": "text/x-python",
   "name": "python",
   "nbconvert_exporter": "python",
   "pygments_lexer": "ipython3",
   "version": "3.10.12"
  },
  "papermill": {
   "default_parameters": {},
   "duration": 6.076511,
   "end_time": "2023-12-12T04:32:20.451153",
   "environment_variables": {},
   "exception": null,
   "input_path": "__notebook__.ipynb",
   "output_path": "__notebook__.ipynb",
   "parameters": {},
   "start_time": "2023-12-12T04:32:14.374642",
   "version": "2.4.0"
  }
 },
 "nbformat": 4,
 "nbformat_minor": 5
}
